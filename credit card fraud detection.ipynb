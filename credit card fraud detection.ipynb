{
 "cells": [
  {
   "cell_type": "code",
   "execution_count": 8,
   "id": "0243bf33",
   "metadata": {},
   "outputs": [],
   "source": [
    "import pandas as pd\n",
    "df = pd.read_csv(\"fraud-detection/FraudData.csv\")\n"
   ]
  },
  {
   "cell_type": "markdown",
   "id": "8d7c5c4d",
   "metadata": {},
   "source": [
    "#  check for shape of  dataset"
   ]
  },
  {
   "cell_type": "code",
   "execution_count": 9,
   "id": "b08b2895",
   "metadata": {},
   "outputs": [
    {
     "name": "stdout",
     "output_type": "stream",
     "text": [
      "Shape: (1852394, 23)\n"
     ]
    }
   ],
   "source": [
    "print(\"Shape:\", df.shape)\n"
   ]
  },
  {
   "cell_type": "markdown",
   "id": "181a5a7e",
   "metadata": {},
   "source": [
    "#  check for column names"
   ]
  },
  {
   "cell_type": "code",
   "execution_count": 10,
   "id": "8b336dbc",
   "metadata": {},
   "outputs": [
    {
     "name": "stdout",
     "output_type": "stream",
     "text": [
      "nColumns: Index(['Unnamed: 0', 'trans_date_trans_time', 'cc_num', 'merchant', 'category',\n",
      "       'amt', 'first', 'last', 'gender', 'street', 'city', 'state', 'zip',\n",
      "       'lat', 'long', 'city_pop', 'job', 'dob', 'trans_num', 'unix_time',\n",
      "       'merch_lat', 'merch_long', 'is_fraud'],\n",
      "      dtype='object')\n"
     ]
    }
   ],
   "source": [
    "print(\"nColumns:\", df.columns)\n"
   ]
  },
  {
   "cell_type": "markdown",
   "id": "076b42c9",
   "metadata": {},
   "source": [
    "#  check for data types"
   ]
  },
  {
   "cell_type": "code",
   "execution_count": 5,
   "id": "3a5728c9",
   "metadata": {},
   "outputs": [
    {
     "name": "stdout",
     "output_type": "stream",
     "text": [
      "\n",
      "Data Types: Unnamed: 0                 int64\n",
      "trans_date_trans_time     object\n",
      "cc_num                     int64\n",
      "merchant                  object\n",
      "category                  object\n",
      "amt                      float64\n",
      "first                     object\n",
      "last                      object\n",
      "gender                    object\n",
      "street                    object\n",
      "city                      object\n",
      "state                     object\n",
      "zip                        int64\n",
      "lat                      float64\n",
      "long                     float64\n",
      "city_pop                   int64\n",
      "job                       object\n",
      "dob                       object\n",
      "trans_num                 object\n",
      "unix_time                  int64\n",
      "merch_lat                float64\n",
      "merch_long               float64\n",
      "is_fraud                   int64\n",
      "dtype: object\n"
     ]
    }
   ],
   "source": [
    "print(\"\\nData Types:\", df.dtypes)"
   ]
  },
  {
   "cell_type": "code",
   "execution_count": 15,
   "id": "0cd99f4a",
   "metadata": {},
   "outputs": [
    {
     "data": {
      "text/html": [
       "<div>\n",
       "<style scoped>\n",
       "    .dataframe tbody tr th:only-of-type {\n",
       "        vertical-align: middle;\n",
       "    }\n",
       "\n",
       "    .dataframe tbody tr th {\n",
       "        vertical-align: top;\n",
       "    }\n",
       "\n",
       "    .dataframe thead th {\n",
       "        text-align: right;\n",
       "    }\n",
       "</style>\n",
       "<table border=\"1\" class=\"dataframe\">\n",
       "  <thead>\n",
       "    <tr style=\"text-align: right;\">\n",
       "      <th></th>\n",
       "      <th>Unnamed: 0</th>\n",
       "      <th>cc_num</th>\n",
       "      <th>merchant</th>\n",
       "      <th>category</th>\n",
       "      <th>amt</th>\n",
       "      <th>first</th>\n",
       "      <th>last</th>\n",
       "      <th>gender</th>\n",
       "      <th>street</th>\n",
       "      <th>city</th>\n",
       "      <th>...</th>\n",
       "      <th>job</th>\n",
       "      <th>dob</th>\n",
       "      <th>trans_num</th>\n",
       "      <th>unix_time</th>\n",
       "      <th>merch_lat</th>\n",
       "      <th>merch_long</th>\n",
       "      <th>is_fraud</th>\n",
       "      <th>hour</th>\n",
       "      <th>day</th>\n",
       "      <th>weekday</th>\n",
       "    </tr>\n",
       "  </thead>\n",
       "  <tbody>\n",
       "    <tr>\n",
       "      <th>0</th>\n",
       "      <td>0</td>\n",
       "      <td>2703186189652095</td>\n",
       "      <td>fraud_Rippin, Kub and Mann</td>\n",
       "      <td>misc_net</td>\n",
       "      <td>4.97</td>\n",
       "      <td>Jennifer</td>\n",
       "      <td>Banks</td>\n",
       "      <td>F</td>\n",
       "      <td>561 Perry Cove</td>\n",
       "      <td>Moravian Falls</td>\n",
       "      <td>...</td>\n",
       "      <td>Psychologist, counselling</td>\n",
       "      <td>1988-03-09</td>\n",
       "      <td>0b242abb623afc578575680df30655b9</td>\n",
       "      <td>1325376018</td>\n",
       "      <td>36.011293</td>\n",
       "      <td>-82.048315</td>\n",
       "      <td>0</td>\n",
       "      <td>0</td>\n",
       "      <td>1</td>\n",
       "      <td>1</td>\n",
       "    </tr>\n",
       "    <tr>\n",
       "      <th>1</th>\n",
       "      <td>1</td>\n",
       "      <td>630423337322</td>\n",
       "      <td>fraud_Heller, Gutmann and Zieme</td>\n",
       "      <td>grocery_pos</td>\n",
       "      <td>107.23</td>\n",
       "      <td>Stephanie</td>\n",
       "      <td>Gill</td>\n",
       "      <td>F</td>\n",
       "      <td>43039 Riley Greens Suite 393</td>\n",
       "      <td>Orient</td>\n",
       "      <td>...</td>\n",
       "      <td>Special educational needs teacher</td>\n",
       "      <td>1978-06-21</td>\n",
       "      <td>1f76529f8574734946361c461b024d99</td>\n",
       "      <td>1325376044</td>\n",
       "      <td>49.159047</td>\n",
       "      <td>-118.186462</td>\n",
       "      <td>0</td>\n",
       "      <td>0</td>\n",
       "      <td>1</td>\n",
       "      <td>1</td>\n",
       "    </tr>\n",
       "    <tr>\n",
       "      <th>2</th>\n",
       "      <td>2</td>\n",
       "      <td>38859492057661</td>\n",
       "      <td>fraud_Lind-Buckridge</td>\n",
       "      <td>entertainment</td>\n",
       "      <td>220.11</td>\n",
       "      <td>Edward</td>\n",
       "      <td>Sanchez</td>\n",
       "      <td>M</td>\n",
       "      <td>594 White Dale Suite 530</td>\n",
       "      <td>Malad City</td>\n",
       "      <td>...</td>\n",
       "      <td>Nature conservation officer</td>\n",
       "      <td>1962-01-19</td>\n",
       "      <td>a1a22d70485983eac12b5b88dad1cf95</td>\n",
       "      <td>1325376051</td>\n",
       "      <td>43.150704</td>\n",
       "      <td>-112.154481</td>\n",
       "      <td>0</td>\n",
       "      <td>0</td>\n",
       "      <td>1</td>\n",
       "      <td>1</td>\n",
       "    </tr>\n",
       "    <tr>\n",
       "      <th>3</th>\n",
       "      <td>3</td>\n",
       "      <td>3534093764340240</td>\n",
       "      <td>fraud_Kutch, Hermiston and Farrell</td>\n",
       "      <td>gas_transport</td>\n",
       "      <td>45.00</td>\n",
       "      <td>Jeremy</td>\n",
       "      <td>White</td>\n",
       "      <td>M</td>\n",
       "      <td>9443 Cynthia Court Apt. 038</td>\n",
       "      <td>Boulder</td>\n",
       "      <td>...</td>\n",
       "      <td>Patent attorney</td>\n",
       "      <td>1967-01-12</td>\n",
       "      <td>6b849c168bdad6f867558c3793159a81</td>\n",
       "      <td>1325376076</td>\n",
       "      <td>47.034331</td>\n",
       "      <td>-112.561071</td>\n",
       "      <td>0</td>\n",
       "      <td>0</td>\n",
       "      <td>1</td>\n",
       "      <td>1</td>\n",
       "    </tr>\n",
       "    <tr>\n",
       "      <th>4</th>\n",
       "      <td>4</td>\n",
       "      <td>375534208663984</td>\n",
       "      <td>fraud_Keeling-Crist</td>\n",
       "      <td>misc_pos</td>\n",
       "      <td>41.96</td>\n",
       "      <td>Tyler</td>\n",
       "      <td>Garcia</td>\n",
       "      <td>M</td>\n",
       "      <td>408 Bradley Rest</td>\n",
       "      <td>Doe Hill</td>\n",
       "      <td>...</td>\n",
       "      <td>Dance movement psychotherapist</td>\n",
       "      <td>1986-03-28</td>\n",
       "      <td>a41d7549acf90789359a9aa5346dcb46</td>\n",
       "      <td>1325376186</td>\n",
       "      <td>38.674999</td>\n",
       "      <td>-78.632459</td>\n",
       "      <td>0</td>\n",
       "      <td>0</td>\n",
       "      <td>1</td>\n",
       "      <td>1</td>\n",
       "    </tr>\n",
       "  </tbody>\n",
       "</table>\n",
       "<p>5 rows × 25 columns</p>\n",
       "</div>"
      ],
      "text/plain": [
       "   Unnamed: 0            cc_num                            merchant  \\\n",
       "0           0  2703186189652095          fraud_Rippin, Kub and Mann   \n",
       "1           1      630423337322     fraud_Heller, Gutmann and Zieme   \n",
       "2           2    38859492057661                fraud_Lind-Buckridge   \n",
       "3           3  3534093764340240  fraud_Kutch, Hermiston and Farrell   \n",
       "4           4   375534208663984                 fraud_Keeling-Crist   \n",
       "\n",
       "        category     amt      first     last gender  \\\n",
       "0       misc_net    4.97   Jennifer    Banks      F   \n",
       "1    grocery_pos  107.23  Stephanie     Gill      F   \n",
       "2  entertainment  220.11     Edward  Sanchez      M   \n",
       "3  gas_transport   45.00     Jeremy    White      M   \n",
       "4       misc_pos   41.96      Tyler   Garcia      M   \n",
       "\n",
       "                         street            city  ...  \\\n",
       "0                561 Perry Cove  Moravian Falls  ...   \n",
       "1  43039 Riley Greens Suite 393          Orient  ...   \n",
       "2      594 White Dale Suite 530      Malad City  ...   \n",
       "3   9443 Cynthia Court Apt. 038         Boulder  ...   \n",
       "4              408 Bradley Rest        Doe Hill  ...   \n",
       "\n",
       "                                 job         dob  \\\n",
       "0          Psychologist, counselling  1988-03-09   \n",
       "1  Special educational needs teacher  1978-06-21   \n",
       "2        Nature conservation officer  1962-01-19   \n",
       "3                    Patent attorney  1967-01-12   \n",
       "4     Dance movement psychotherapist  1986-03-28   \n",
       "\n",
       "                          trans_num   unix_time  merch_lat  merch_long  \\\n",
       "0  0b242abb623afc578575680df30655b9  1325376018  36.011293  -82.048315   \n",
       "1  1f76529f8574734946361c461b024d99  1325376044  49.159047 -118.186462   \n",
       "2  a1a22d70485983eac12b5b88dad1cf95  1325376051  43.150704 -112.154481   \n",
       "3  6b849c168bdad6f867558c3793159a81  1325376076  47.034331 -112.561071   \n",
       "4  a41d7549acf90789359a9aa5346dcb46  1325376186  38.674999  -78.632459   \n",
       "\n",
       "  is_fraud hour  day  weekday  \n",
       "0        0    0    1        1  \n",
       "1        0    0    1        1  \n",
       "2        0    0    1        1  \n",
       "3        0    0    1        1  \n",
       "4        0    0    1        1  \n",
       "\n",
       "[5 rows x 25 columns]"
      ]
     },
     "execution_count": 15,
     "metadata": {},
     "output_type": "execute_result"
    }
   ],
   "source": [
    " # see some data \n",
    "df.head()"
   ]
  },
  {
   "cell_type": "markdown",
   "id": "4c8e00d5",
   "metadata": {},
   "source": [
    "#  convert date time"
   ]
  },
  {
   "cell_type": "code",
   "execution_count": 30,
   "id": "8da67ba7",
   "metadata": {},
   "outputs": [
    {
     "name": "stdout",
     "output_type": "stream",
     "text": [
      "\n",
      "Data Types: Unnamed: 0      int64\n",
      "cc_num          int64\n",
      "merchant       object\n",
      "category       object\n",
      "amt           float64\n",
      "first          object\n",
      "last           object\n",
      "gender         object\n",
      "street         object\n",
      "city           object\n",
      "state          object\n",
      "zip             int64\n",
      "lat           float64\n",
      "long          float64\n",
      "city_pop        int64\n",
      "job            object\n",
      "dob            object\n",
      "trans_num      object\n",
      "unix_time       int64\n",
      "merch_lat     float64\n",
      "merch_long    float64\n",
      "is_fraud        int64\n",
      "hour            int32\n",
      "day             int32\n",
      "weekday         int32\n",
      "dtype: object\n"
     ]
    }
   ],
   "source": [
    "print(\"\\nData Types:\", df.dtypes)"
   ]
  },
  {
   "cell_type": "markdown",
   "id": "ff87be70",
   "metadata": {},
   "source": [
    "# genral statistics"
   ]
  },
  {
   "cell_type": "code",
   "execution_count": 21,
   "id": "82e8b19d",
   "metadata": {},
   "outputs": [
    {
     "name": "stdout",
     "output_type": "stream",
     "text": [
      "         Unnamed: 0        cc_num           amt           zip           lat  \\\n",
      "count  1.852394e+06  1.852394e+06  1.852394e+06  1.852394e+06  1.852394e+06   \n",
      "mean   5.371934e+05  4.173860e+17  7.006357e+01  4.881326e+04  3.853931e+01   \n",
      "std    3.669110e+05  1.309115e+18  1.592540e+02  2.688185e+04  5.071470e+00   \n",
      "min    0.000000e+00  6.041621e+10  1.000000e+00  1.257000e+03  2.002710e+01   \n",
      "25%    2.315490e+05  1.800429e+14  9.640000e+00  2.623700e+04  3.466890e+01   \n",
      "50%    4.630980e+05  3.521417e+15  4.745000e+01  4.817400e+04  3.935430e+01   \n",
      "75%    8.335758e+05  4.642255e+15  8.310000e+01  7.204200e+04  4.194040e+01   \n",
      "max    1.296674e+06  4.992346e+18  2.894890e+04  9.992100e+04  6.669330e+01   \n",
      "\n",
      "               long      city_pop     unix_time     merch_lat    merch_long  \\\n",
      "count  1.852394e+06  1.852394e+06  1.852394e+06  1.852394e+06  1.852394e+06   \n",
      "mean  -9.022783e+01  8.864367e+04  1.358674e+09  3.853898e+01 -9.022794e+01   \n",
      "std    1.374789e+01  3.014876e+05  1.819508e+07  5.105604e+00  1.375969e+01   \n",
      "min   -1.656723e+02  2.300000e+01  1.325376e+09  1.902742e+01 -1.666716e+02   \n",
      "25%   -9.679800e+01  7.410000e+02  1.343017e+09  3.474012e+01 -9.689944e+01   \n",
      "50%   -8.747690e+01  2.443000e+03  1.357089e+09  3.936890e+01 -8.744069e+01   \n",
      "75%   -8.015800e+01  2.032800e+04  1.374581e+09  4.195626e+01 -8.024511e+01   \n",
      "max   -6.795030e+01  2.906700e+06  1.388534e+09  6.751027e+01 -6.695090e+01   \n",
      "\n",
      "           is_fraud          hour           day       weekday  \n",
      "count  1.852394e+06  1.852394e+06  1.852394e+06  1.852394e+06  \n",
      "mean   5.210015e-03  1.280612e+01  1.585076e+01  2.967456e+00  \n",
      "std    7.199217e-02  6.815753e+00  8.876245e+00  2.197983e+00  \n",
      "min    0.000000e+00  0.000000e+00  1.000000e+00  0.000000e+00  \n",
      "25%    0.000000e+00  7.000000e+00  8.000000e+00  1.000000e+00  \n",
      "50%    0.000000e+00  1.400000e+01  1.600000e+01  3.000000e+00  \n",
      "75%    0.000000e+00  1.900000e+01  2.400000e+01  5.000000e+00  \n",
      "max    1.000000e+00  2.300000e+01  3.100000e+01  6.000000e+00  \n"
     ]
    }
   ],
   "source": [
    "print(df.describe())\n"
   ]
  },
  {
   "cell_type": "code",
   "execution_count": null,
   "id": "75345789",
   "metadata": {},
   "outputs": [
    {
     "ename": "TypeError",
     "evalue": "'Series' object is not callable",
     "output_type": "error",
     "traceback": [
      "\u001b[0;31m---------------------------------------------------------------------------\u001b[0m",
      "\u001b[0;31mTypeError\u001b[0m                                 Traceback (most recent call last)",
      "Cell \u001b[0;32mIn[29], line 1\u001b[0m\n\u001b[0;32m----> 1\u001b[0m df\u001b[38;5;241m.\u001b[39mdtypes()\n",
      "\u001b[0;31mTypeError\u001b[0m: 'Series' object is not callable"
     ]
    }
   ],
   "source": []
  },
  {
   "cell_type": "markdown",
   "id": "498e8cfd",
   "metadata": {},
   "source": [
    "# removing unnecessary column not needed for our analysis."
   ]
  },
  {
   "cell_type": "code",
   "execution_count": 31,
   "id": "cc7957cd",
   "metadata": {},
   "outputs": [],
   "source": [
    "df.drop(['Unnamed: 0', 'first', 'last', 'street', 'dob', 'trans_num', 'unix_time'], axis=1, inplace=True)\n"
   ]
  },
  {
   "cell_type": "markdown",
   "id": "79e92158",
   "metadata": {},
   "source": [
    "# checking the missing values\n"
   ]
  },
  {
   "cell_type": "code",
   "execution_count": 32,
   "id": "8c542c1d",
   "metadata": {},
   "outputs": [
    {
     "name": "stdout",
     "output_type": "stream",
     "text": [
      "cc_num        0\n",
      "merchant      0\n",
      "category      0\n",
      "amt           0\n",
      "gender        0\n",
      "city          0\n",
      "state         0\n",
      "zip           0\n",
      "lat           0\n",
      "long          0\n",
      "city_pop      0\n",
      "job           0\n",
      "merch_lat     0\n",
      "merch_long    0\n",
      "is_fraud      0\n",
      "hour          0\n",
      "day           0\n",
      "weekday       0\n",
      "dtype: int64\n"
     ]
    }
   ],
   "source": [
    "#  check for missing values\n",
    "print(df.isnull().sum())\n"
   ]
  },
  {
   "cell_type": "markdown",
   "id": "a608c6bb",
   "metadata": {},
   "source": [
    "# count the targert variable in percentage"
   ]
  },
  {
   "cell_type": "code",
   "execution_count": 33,
   "id": "f8eae1d2",
   "metadata": {},
   "outputs": [
    {
     "name": "stdout",
     "output_type": "stream",
     "text": [
      "is_fraud\n",
      "0    1842743\n",
      "1       9651\n",
      "Name: count, dtype: int64\n",
      "is_fraud\n",
      "0    0.99479\n",
      "1    0.00521\n",
      "Name: proportion, dtype: float64\n"
     ]
    }
   ],
   "source": [
    "print(df['is_fraud'].value_counts())\n",
    "print(df['is_fraud'].value_counts(normalize=True))  # percentage\n"
   ]
  },
  {
   "cell_type": "code",
   "execution_count": 24,
   "id": "f6763ae7",
   "metadata": {},
   "outputs": [
    {
     "name": "stdout",
     "output_type": "stream",
     "text": [
      "Unnamed: 0    1296675\n",
      "cc_num            999\n",
      "merchant          693\n",
      "category           14\n",
      "amt             60616\n",
      "first             355\n",
      "last              486\n",
      "gender              2\n",
      "street            999\n",
      "city              906\n",
      "state              51\n",
      "zip               985\n",
      "lat               983\n",
      "long              983\n",
      "city_pop          891\n",
      "job               497\n",
      "dob               984\n",
      "trans_num     1852394\n",
      "unix_time     1819583\n",
      "merch_lat     1754157\n",
      "merch_long    1809753\n",
      "is_fraud            2\n",
      "hour               24\n",
      "day                31\n",
      "weekday             7\n",
      "dtype: int64\n"
     ]
    }
   ],
   "source": [
    "print(df.nunique())\n"
   ]
  },
  {
   "cell_type": "markdown",
   "id": "924deec5",
   "metadata": {},
   "source": [
    "# Unique Values per Column"
   ]
  },
  {
   "cell_type": "code",
   "execution_count": 16,
   "id": "3ba26dd6",
   "metadata": {},
   "outputs": [
    {
     "data": {
      "image/png": "[encoded data removed]",
      "text/plain": [
       "<Figure size 1200x600 with 1 Axes>"
      ]
     },
     "metadata": {},
     "output_type": "display_data"
    }
   ],
   "source": [
    "import matplotlib.pyplot as plt\n",
    "\n",
    "df.nunique().sort_values(ascending=False).plot(kind='bar', figsize=(12,6))\n",
    "plt.title('Number of Unique Values per Column')\n",
    "plt.ylabel('Unique Count')\n",
    "plt.xticks(rotation=90)\n",
    "plt.tight_layout()\n",
    "plt.show()\n"
   ]
  },
  {
   "cell_type": "markdown",
   "id": "e01b3777",
   "metadata": {},
   "source": [
    "# Distribution of Target Variable (is_fraud)"
   ]
  },
  {
   "cell_type": "code",
   "execution_count": 17,
   "id": "66e7cc6a",
   "metadata": {},
   "outputs": [
    {
     "data": {
      "image/png": "[encoded data removed]",
      "text/plain": [
       "<Figure size 640x480 with 1 Axes>"
      ]
     },
     "metadata": {},
     "output_type": "display_data"
    }
   ],
   "source": [
    "import seaborn as sns\n",
    "\n",
    "sns.countplot(data=df, x='is_fraud')\n",
    "plt.title('Fraud vs Non-Fraud Count')\n",
    "plt.xlabel('Is Fraud')\n",
    "plt.ylabel('Transaction Count')\n",
    "plt.show()\n"
   ]
  }
 ],
 "metadata": {
  "kernelspec": {
   "display_name": "base",
   "language": "python",
   "name": "python3"
  },
  "language_info": {
   "codemirror_mode": {
    "name": "ipython",
    "version": 3
   },
   "file_extension": ".py",
   "mimetype": "text/x-python",
   "name": "python",
   "nbconvert_exporter": "python",
   "pygments_lexer": "ipython3",
   "version": "3.12.7"
  }
 },
 "nbformat": 4,
 "nbformat_minor": 5
}
